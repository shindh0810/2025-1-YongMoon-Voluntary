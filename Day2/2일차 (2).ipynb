{
  "nbformat": 4,
  "nbformat_minor": 0,
  "metadata": {
    "colab": {
      "provenance": []
    },
    "kernelspec": {
      "name": "python3",
      "display_name": "Python 3"
    },
    "language_info": {
      "name": "python"
    }
  },
  "cells": [
    {
      "cell_type": "markdown",
      "source": [
        "# **순전파**"
      ],
      "metadata": {
        "id": "83h_z_B8NhfQ"
      }
    },
    {
      "cell_type": "code",
      "execution_count": 2,
      "metadata": {
        "id": "nN0U6pt7NfVE",
        "colab": {
          "base_uri": "https://localhost:8080/"
        },
        "outputId": "7d8d6314-52a3-4c15-ceb1-6aa41a168a19"
      },
      "outputs": [
        {
          "output_type": "stream",
          "name": "stdout",
          "text": [
            "입력 벡터 x: [[0.5 0.8 0.2]]\n",
            "은닉층 선형 출력 z1: [[0.8 1.4]]\n",
            "은닉층 활성화 a1 (ReLU): [[0.8 1.4]]\n",
            "출력층 선형 출력 z2: [[0.7]]\n",
            "최종 예측 y_pred (ReLU): [[0.7]]\n"
          ]
        }
      ],
      "source": [
        "import numpy as np\n",
        "\n",
        "# ReLU 함수 정의\n",
        "def relu(x):\n",
        "  return np.maximum(0,x)\n",
        "\n",
        "# 입력층 데이터(1*3)\n",
        "x=np.array([[0.5,0.8,0.2]])\n",
        "\n",
        "# 은닉층 가중치(3*2), 편향(1*2)\n",
        "w1=np.array([\n",
        "    [1.0,-1.0],\n",
        "    [0.0,2.0],\n",
        "    [1.0,0.5]\n",
        "])\n",
        "\n",
        "b1=np.array([[0.1,0.2]])\n",
        "\n",
        "# 은닉층 계산\n",
        "z1=x@w1+b1\n",
        "a1=relu(z1)\n",
        "\n",
        "# 출력층 가중치(2*1), 편향(1*1)\n",
        "w2=np.array([\n",
        "    [2.0],\n",
        "    [-1.0]\n",
        "])\n",
        "\n",
        "b2=np.array([[0.5]])\n",
        "\n",
        "# 출력층 계산\n",
        "z2=a1@w2+b2\n",
        "y_pred=relu(z2)\n",
        "\n",
        "# 결과 출력\n",
        "print(\"입력 벡터 x:\", x)\n",
        "print(\"은닉층 선형 출력 z1:\", z1)\n",
        "print(\"은닉층 활성화 a1 (ReLU):\", a1)\n",
        "print(\"출력층 선형 출력 z2:\", z2)\n",
        "print(\"최종 예측 y_pred (ReLU):\", y_pred)"
      ]
    },
    {
      "cell_type": "markdown",
      "source": [
        "# **역전파 (직접 미분)**"
      ],
      "metadata": {
        "id": "YMtndb5qOgUX"
      }
    },
    {
      "cell_type": "code",
      "source": [
        "import numpy as np\n",
        "\n",
        "# ReLU 함수와 도함수 정의\n",
        "def relu(x):\n",
        "  return np.maximum(0,x)\n",
        "\n",
        "def relu_deriv(x):\n",
        "  return (x>0).astype(float)\n",
        "\n",
        "# 입력층 데이터(1*3)\n",
        "x=np.array([[0.5,0.8,0.2]])\n",
        "\n",
        "# 정답값\n",
        "y=np.array([[1.0]])\n",
        "\n",
        "# 은닉층 가중치(3*2), 편향(1*2)\n",
        "w1=np.array([\n",
        "    [1.0,-1.0],\n",
        "    [0.0,2.0],\n",
        "    [1.0,0.5]\n",
        "])\n",
        "\n",
        "b1=np.array([[0.1,0.2]])\n",
        "\n",
        "# 출력층 가중치(2*1), 편향(1*1)\n",
        "w2=np.array([\n",
        "    [2.0],\n",
        "    [-1.0]\n",
        "])\n",
        "\n",
        "b2=np.array([[0.5]])\n",
        "\n",
        "# 순전파 계산\n",
        "z1=x@w1+b1\n",
        "a1=relu(z1)\n",
        "z2=a1@w2+b2\n",
        "y_pred=relu(z2)\n",
        "\n",
        "# 손실함수\n",
        "loss= 0.5*(y_pred-y)**2\n",
        "\n",
        "# --- 역전파 ---\n",
        "# 출력층 계산\n",
        "# dL_dW2 = dL_dy * dy_dz2 * dz2_dW2\n",
        "dL_dy = y_pred - y                     # dL/dy_pred\n",
        "dy_dz2 = relu_deriv(z2)                # ReLU 미분\n",
        "dz2 = dL_dy * dy_dz2                   # dL/dz2 (1,1)\n",
        "\n",
        "dW2 = a1.T @ dz2                       # (2,1)\n",
        "db2 = dz2                              # (1,1)\n",
        "\n",
        "# 은닉층 계산\n",
        "dz1 = dz2 @ w2.T * relu_deriv(z1)      # (1,2)\n",
        "dW1 = x.T @ dz1                        # (3,2)\n",
        "db1 = dz1                              # (1,2)\n",
        "\n",
        "# 가중치 및 편향 업데이트\n",
        "lr=0.1\n",
        "\n",
        "w1-=lr*dW1\n",
        "b1-=lr*db1\n",
        "w2-=lr*dW2\n",
        "b2-=lr*db2\n",
        "\n",
        "# 두 번째 순전파\n",
        "z1_2=x@w1+b1\n",
        "a1_2=relu(z1_2)\n",
        "z2_2=a1_2@w2+b2\n",
        "y_pred_2=relu(z2_2)\n",
        "loss_2=0.5*(y_pred_2-2)**2\n",
        "\n",
        "# 결과 출력\n",
        "print(\"---순전파---\")\n",
        "print(\"z1:\", z1)\n",
        "print(\"a1:\", a1)\n",
        "print(\"z2:\", z2)\n",
        "print(\"y_pred:\", y_pred)\n",
        "print(\"loss:\", loss.item())\n",
        "\n",
        "print(\"\\n---역전파---\")\n",
        "print(\"dW2:\", dW2)\n",
        "print(\"db2:\", db2)\n",
        "print(\"dW1:\", dW1)\n",
        "print(\"db1:\", db1)\n",
        "\n",
        "print(\"\\n---업데이트 후---\")\n",
        "print(\"W1:\", w1)\n",
        "print(\"b1:\", b1)\n",
        "print(\"W2:\", w2)\n",
        "print(\"b2:\", b2)\n",
        "\n",
        "print(\"\\n---두 번째 순전파---\")\n",
        "print(\"z1:\", z1_2)\n",
        "print(\"a1:\", a1_2)\n",
        "print(\"z2:\", z2_2)\n",
        "print(\"y_pred:\", y_pred_2)\n",
        "print(\"loss:\", loss_2.item())"
      ],
      "metadata": {
        "id": "es51wemYOisf",
        "colab": {
          "base_uri": "https://localhost:8080/"
        },
        "outputId": "edccc24e-f233-470d-83d2-1c4239c12f6c"
      },
      "execution_count": 6,
      "outputs": [
        {
          "output_type": "stream",
          "name": "stdout",
          "text": [
            "---순전파---\n",
            "z1: [[0.8 1.4]]\n",
            "a1: [[0.8 1.4]]\n",
            "z2: [[0.7]]\n",
            "y_pred: [[0.7]]\n",
            "loss: 0.04500000000000008\n",
            "\n",
            "---역전파---\n",
            "dW2: [[-0.24]\n",
            " [-0.42]]\n",
            "db2: [[-0.3]]\n",
            "dW1: [[-0.3   0.15]\n",
            " [-0.48  0.24]\n",
            " [-0.12  0.06]]\n",
            "db1: [[-0.6  0.3]]\n",
            "\n",
            "---업데이트 후---\n",
            "W1: [[ 1.03  -1.015]\n",
            " [ 0.048  1.976]\n",
            " [ 1.012  0.494]]\n",
            "b1: [[0.16 0.17]]\n",
            "W2: [[ 2.024]\n",
            " [-0.958]]\n",
            "b2: [[0.53]]\n",
            "\n",
            "---두 번째 순전파---\n",
            "z1: [[0.9158 1.3421]]\n",
            "a1: [[0.9158 1.3421]]\n",
            "z2: [[1.0978474]]\n",
            "y_pred: [[1.0978474]]\n",
            "loss: 0.40693965684337957\n"
          ]
        }
      ]
    },
    {
      "cell_type": "markdown",
      "source": [
        "# **역전파(pytorch 사용)**"
      ],
      "metadata": {
        "id": "jya-pEPZPuqM"
      }
    },
    {
      "cell_type": "code",
      "source": [
        "import torch\n",
        "import torch.nn.functional as F\n",
        "\n",
        "# 입력 데이터와 정답\n",
        "x = torch.tensor([[0.5, 0.8, 0.2]], dtype = torch.float32)\n",
        "y = torch.tensor([[1.0]], dtype = torch.float32)\n",
        "\n",
        "# 가중치 및 편향\n",
        "w1 = torch.tensor([[1.0, -1.0],\n",
        "                   [0.0, 2.0],\n",
        "                    [1.0, 0.5]], requires_grad = True)\n",
        "b1 = torch.tensor([[0.1, 0.2]], dtype = torch.float32, requires_grad = True)\n",
        "\n",
        "w2 = torch.tensor([[2.0],\n",
        "                   [-1.0]], dtype=torch.float32, requires_grad=True)\n",
        "\n",
        "b2 = torch.tensor([[0.5]], dtype=torch.float32, requires_grad=True)\n",
        "\n",
        "# 순전파\n",
        "z1=x@w1+b1\n",
        "a1=F.relu(z1)\n",
        "z2=a1@w2+b2\n",
        "y_pred=F.relu(z2)\n",
        "loss=0.5*(y_pred-y)**2\n",
        "\n",
        "# 역전파\n",
        "loss.backward()\n",
        "\n",
        "# 파라미터 업데이트\n",
        "lr=0.1\n",
        "with torch.no_grad():\n",
        "  w1-=lr*w1.grad\n",
        "  b1-=lr*b1.grad\n",
        "  w2-=lr*w2.grad\n",
        "  b2-=lr*b2.grad\n",
        "\n",
        "# 두 번째 순전파\n",
        "z1_2=x@w1+b1\n",
        "a1_2=F.relu(z1_2)\n",
        "z2_2=a1@w2+b2\n",
        "y_pred_2=F.relu(z2_2)\n",
        "loss_2=0.5*(y_pred_2-y)**2\n",
        "\n",
        "# 결과 출력\n",
        "print(\"y_red: \",y_pred_2.item())"
      ],
      "metadata": {
        "id": "kv-Ti_lmPw-S",
        "colab": {
          "base_uri": "https://localhost:8080/"
        },
        "outputId": "74eb3946-0cdb-492e-cb69-900452a3982c"
      },
      "execution_count": 9,
      "outputs": [
        {
          "output_type": "stream",
          "name": "stdout",
          "text": [
            "y_red:  0.8079999685287476\n"
          ]
        }
      ]
    },
    {
      "cell_type": "markdown",
      "source": [
        "# **순전파+역전파 for문**"
      ],
      "metadata": {
        "id": "4I6nPs2TUdY_"
      }
    },
    {
      "cell_type": "code",
      "source": [
        "import torch\n",
        "import torch.nn.functional as F\n",
        "\n",
        "# 입력 데이터와 정답\n",
        "x = torch.tensor([[0.5, 0.8, 0.2]], dtype = torch.float32)\n",
        "y = torch.tensor([[1.0]], dtype = torch.float32)\n",
        "\n",
        "# 가중치 및 편향\n",
        "W1 = torch.tensor([[1.0, -1.0],\n",
        "                   [0.0, 2.0],\n",
        "                    [1.0, 0.5]], requires_grad = True)\n",
        "b1 = torch.tensor([[0.1, 0.2]], dtype = torch.float32, requires_grad = True)\n",
        "\n",
        "W2 = torch.tensor([[2.0],\n",
        "                   [-1.0]], dtype=torch.float32, requires_grad=True)\n",
        "\n",
        "b2 = torch.tensor([[0.5]], dtype=torch.float32, requires_grad=True)\n",
        "\n",
        "# 학습 설정\n",
        "lr = 0.1\n",
        "epochs=10\n",
        "\n",
        "print(\"---학습 시작---\")\n",
        "for epoch in range(1,epochs+1):\n",
        "  # 순전파\n",
        "  z1=x@w1+b1\n",
        "  a1=F.relu(z1)\n",
        "  z2=a1@w2+b2\n",
        "  y_pred=F.relu(z2)\n",
        "  loss=0.5*(y_pred-y)**2\n",
        "\n",
        "  #역전파\n",
        "  loss.backward()\n",
        "\n",
        "  #파라미터 업데이트\n",
        "  with torch.no_grad():\n",
        "    w1-=lr*w1.grad\n",
        "    b1-=lr*b1.grad\n",
        "    w2-=lr*w2.grad\n",
        "    b2-=lr*b2.grad\n",
        "\n",
        "    #기울기 초기화\n",
        "    w1.grad.zero_()\n",
        "    b1.grad.zero_()\n",
        "    w2.grad.zero_()\n",
        "    b2.grad.zero_()\n",
        "\n",
        "  print(\"Epoch\",epoch, \"| y_pred: \", y_pred.item(), \"| Loss: \", loss.item())\n",
        "\n"
      ],
      "metadata": {
        "id": "0yxwN9skUho3",
        "colab": {
          "base_uri": "https://localhost:8080/"
        },
        "outputId": "bf037324-98c9-492a-a86d-30c17324be84"
      },
      "execution_count": 11,
      "outputs": [
        {
          "output_type": "stream",
          "name": "stdout",
          "text": [
            "---학습 시작---\n",
            "Epoch 1 | y_pred:  1.281174898147583 | Loss:  0.03952966257929802\n",
            "Epoch 2 | y_pred:  0.9322159290313721 | Loss:  0.0022973401937633753\n",
            "Epoch 3 | y_pred:  1.0208213329315186 | Loss:  0.00021676394680980593\n",
            "Epoch 4 | y_pred:  0.9935687780380249 | Loss:  2.0680308807641268e-05\n",
            "Epoch 5 | y_pred:  1.0019829273223877 | Loss:  1.966000354514108e-06\n",
            "Epoch 6 | y_pred:  0.9993883371353149 | Loss:  1.870657229119388e-07\n",
            "Epoch 7 | y_pred:  1.0001883506774902 | Loss:  1.773798885551514e-08\n",
            "Epoch 8 | y_pred:  0.9999423027038574 | Loss:  1.6644889910821803e-09\n",
            "Epoch 9 | y_pred:  1.0000176429748535 | Loss:  1.5563728084089234e-10\n",
            "Epoch 10 | y_pred:  0.9999944567680359 | Loss:  1.5363710303972766e-11\n"
          ]
        }
      ]
    },
    {
      "cell_type": "code",
      "source": [],
      "metadata": {
        "id": "daVQmYEMUTv_"
      },
      "execution_count": null,
      "outputs": []
    }
  ]
}